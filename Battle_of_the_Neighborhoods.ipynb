{
 "metadata": {
  "language_info": {
   "codemirror_mode": {
    "name": "ipython",
    "version": 3
   },
   "file_extension": ".py",
   "mimetype": "text/x-python",
   "name": "python",
   "nbconvert_exporter": "python",
   "pygments_lexer": "ipython3",
   "version": 3
  },
  "orig_nbformat": 2,
  "kernelspec": {
   "name": "python_defaultSpec_1595956402683",
   "display_name": "Python 3.7.6 64-bit ('base': conda)"
  }
 },
 "nbformat": 4,
 "nbformat_minor": 2,
 "cells": [
  {
   "cell_type": "markdown",
   "metadata": {},
   "source": [
    "# Capstone Project - The Battle of the Neighborhoods\n",
    "### Applied Data Science Capstone by IBM/Coursera\n",
    "### By: Matias Garib\n",
    "\n",
    "This Jupyter Notebook contains all the code and brief comments of the Coursera Capstone project. The full report will be accessible in the following Github Repository: https://github.com/MatiasGarib/Coursera_Capstone"
   ]
  },
  {
   "cell_type": "markdown",
   "metadata": {},
   "source": [
    "## Table of contents\n",
    "* [Introduction: Business Problem](#introduction)\n",
    "* [Datasets](#data)\n",
    "* [Methodology](#methodology)\n",
    "* [Analysis](#analysis)\n",
    "* [Results and Discussion](#results)\n",
    "* [Conclusion](#conclusion)"
   ]
  },
  {
   "cell_type": "markdown",
   "metadata": {},
   "source": [
    "\n",
    "## Introduction <a name=\"introduction\"></a>\n",
    "\n",
    "People want to start going out and visiting restaurants, but they want to visit places with the best hygiene practices. The questions we want to answer, for the city of San Francisco, are: which are the cleanest restaurants in each neighborhood? Which are the safest neighborhoods to go out to eat?"
   ]
  },
  {
   "cell_type": "markdown",
   "metadata": {},
   "source": [
    "## Datasets <a name=\"data\"></a>\n",
    "\n",
    "1. The first dataset to be used consists of a **GeoJSON file with the names and boundaries of 41 San Francisco neighborhoods (GeoJSON)** \n",
    "2. **Foursquare APIs (URI)**\n",
    "3. City of San Francisco Health Department’s **hygiene inspection program (CSV)** \n"
   ]
  },
  {
   "cell_type": "code",
   "execution_count": 5,
   "metadata": {
    "tags": []
   },
   "outputs": [
    {
     "output_type": "stream",
     "name": "stdout",
     "text": "Collecting sodapy\n  Downloading sodapy-2.1.0-py2.py3-none-any.whl (14 kB)\nRequirement already satisfied: requests>=2.20.0 in /Users/Matias/opt/anaconda3/lib/python3.7/site-packages (from sodapy) (2.22.0)\nRequirement already satisfied: idna<2.9,>=2.5 in /Users/Matias/opt/anaconda3/lib/python3.7/site-packages (from requests>=2.20.0->sodapy) (2.8)\nRequirement already satisfied: certifi>=2017.4.17 in /Users/Matias/opt/anaconda3/lib/python3.7/site-packages (from requests>=2.20.0->sodapy) (2019.11.28)\nRequirement already satisfied: urllib3!=1.25.0,!=1.25.1,<1.26,>=1.21.1 in /Users/Matias/opt/anaconda3/lib/python3.7/site-packages (from requests>=2.20.0->sodapy) (1.25.8)\nRequirement already satisfied: chardet<3.1.0,>=3.0.2 in /Users/Matias/opt/anaconda3/lib/python3.7/site-packages (from requests>=2.20.0->sodapy) (3.0.4)\nInstalling collected packages: sodapy\nSuccessfully installed sodapy-2.1.0\nNote: you may need to restart the kernel to use updated packages.\n"
    }
   ],
   "source": [
    "pip install sodapy"
   ]
  },
  {
   "cell_type": "code",
   "execution_count": 17,
   "metadata": {},
   "outputs": [],
   "source": [
    "import pandas as pd\n",
    "import numpy as np\n",
    "import requests\n",
    "import folium\n",
    "from sodapy import Socrata\n",
    "\n"
   ]
  },
  {
   "cell_type": "markdown",
   "metadata": {},
   "source": [
    "<h3> Importinge the Datasets <h3>\n",
    "\n",
    "The neighborhoods and hygiene inspection datasets are easily accessible thanks to the Socrata API provided by the San Francisco Government"
   ]
  },
  {
   "cell_type": "code",
   "execution_count": 101,
   "metadata": {
    "tags": []
   },
   "outputs": [
    {
     "output_type": "stream",
     "name": "stderr",
     "text": "WARNING:root:Requests made without an app_token will be subject to strict throttling limits.\n"
    }
   ],
   "source": [
    "client = Socrata(\"data.sfgov.org\", None)\n",
    "results = client.get(\"pyih-qa8i\", limit=60000)\n",
    "hygiene_df=pd.DataFrame.from_records(results)\n",
    "\n",
    "nhoods=client.get(\"743h-p4bq\", limit=60000) # We will use this JSON file later on to map out San Francisco's neighborhoods\n",
    "nhoods_df=pd.DataFrame.from_records(nhoods)"
   ]
  },
  {
   "cell_type": "code",
   "execution_count": 102,
   "metadata": {
    "tags": []
   },
   "outputs": [
    {
     "output_type": "stream",
     "name": "stdout",
     "text": "(53973, 23)\n(92, 4)\n"
    }
   ],
   "source": [
    "print(hygiene_df.shape)\n",
    "print(nhoods_df.shape)"
   ]
  },
  {
   "cell_type": "code",
   "execution_count": 103,
   "metadata": {},
   "outputs": [
    {
     "output_type": "execute_result",
     "data": {
      "text/plain": "  business_id            business_name  business_address  business_city  \\\n0       69618  Fancy Wheatfield Bakery  1362 Stockton St  San Francisco   \n1       97975               BREADBELLY   1408 Clement St  San Francisco   \n2       69487   Hakkasan San Francisco       1 Kearny St  San Francisco   \n3       91044    Chopsticks Restaurant   4615 Mission St  San Francisco   \n4       85987                  Tselogs      552 Jones St  San Francisco   \n\n  business_state business_postal_code   inspection_id  \\\n0             CA                94133  69618_20190304   \n1             CA                94118  97975_20190725   \n2             CA                94108  69487_20180418   \n3             CA                94112  91044_20170818   \n4             CA                94102  85987_20180412   \n\n           inspection_date            inspection_type           violation_id  \\\n0  2019-03-04T00:00:00.000                  Complaint  69618_20190304_103130   \n1  2019-07-25T00:00:00.000      Routine - Unscheduled  97975_20190725_103124   \n2  2018-04-18T00:00:00.000      Routine - Unscheduled  69487_20180418_103119   \n3  2017-08-18T00:00:00.000  Non-inspection site visit                    NaN   \n4  2018-04-12T00:00:00.000      Routine - Unscheduled  85987_20180412_103132   \n\n   ... inspection_score business_latitude business_longitude  \\\n0  ...              NaN               NaN                NaN   \n1  ...               96               NaN                NaN   \n2  ...               88               NaN                NaN   \n3  ...              NaN               NaN                NaN   \n4  ...               94               NaN                NaN   \n\n  business_location :@computed_region_fyvs_ahh9 :@computed_region_p5aj_wyqh  \\\n0               NaN                         NaN                         NaN   \n1               NaN                         NaN                         NaN   \n2               NaN                         NaN                         NaN   \n3               NaN                         NaN                         NaN   \n4               NaN                         NaN                         NaN   \n\n  :@computed_region_rxqg_mtj9 :@computed_region_yftq_j783  \\\n0                         NaN                         NaN   \n1                         NaN                         NaN   \n2                         NaN                         NaN   \n3                         NaN                         NaN   \n4                         NaN                         NaN   \n\n  :@computed_region_bh8s_q3mv :@computed_region_ajp5_b2md  \n0                         NaN                         NaN  \n1                         NaN                         NaN  \n2                         NaN                         NaN  \n3                         NaN                         NaN  \n4                         NaN                         NaN  \n\n[5 rows x 23 columns]",
      "text/html": "<div>\n<style scoped>\n    .dataframe tbody tr th:only-of-type {\n        vertical-align: middle;\n    }\n\n    .dataframe tbody tr th {\n        vertical-align: top;\n    }\n\n    .dataframe thead th {\n        text-align: right;\n    }\n</style>\n<table border=\"1\" class=\"dataframe\">\n  <thead>\n    <tr style=\"text-align: right;\">\n      <th></th>\n      <th>business_id</th>\n      <th>business_name</th>\n      <th>business_address</th>\n      <th>business_city</th>\n      <th>business_state</th>\n      <th>business_postal_code</th>\n      <th>inspection_id</th>\n      <th>inspection_date</th>\n      <th>inspection_type</th>\n      <th>violation_id</th>\n      <th>...</th>\n      <th>inspection_score</th>\n      <th>business_latitude</th>\n      <th>business_longitude</th>\n      <th>business_location</th>\n      <th>:@computed_region_fyvs_ahh9</th>\n      <th>:@computed_region_p5aj_wyqh</th>\n      <th>:@computed_region_rxqg_mtj9</th>\n      <th>:@computed_region_yftq_j783</th>\n      <th>:@computed_region_bh8s_q3mv</th>\n      <th>:@computed_region_ajp5_b2md</th>\n    </tr>\n  </thead>\n  <tbody>\n    <tr>\n      <th>0</th>\n      <td>69618</td>\n      <td>Fancy Wheatfield Bakery</td>\n      <td>1362 Stockton St</td>\n      <td>San Francisco</td>\n      <td>CA</td>\n      <td>94133</td>\n      <td>69618_20190304</td>\n      <td>2019-03-04T00:00:00.000</td>\n      <td>Complaint</td>\n      <td>69618_20190304_103130</td>\n      <td>...</td>\n      <td>NaN</td>\n      <td>NaN</td>\n      <td>NaN</td>\n      <td>NaN</td>\n      <td>NaN</td>\n      <td>NaN</td>\n      <td>NaN</td>\n      <td>NaN</td>\n      <td>NaN</td>\n      <td>NaN</td>\n    </tr>\n    <tr>\n      <th>1</th>\n      <td>97975</td>\n      <td>BREADBELLY</td>\n      <td>1408 Clement St</td>\n      <td>San Francisco</td>\n      <td>CA</td>\n      <td>94118</td>\n      <td>97975_20190725</td>\n      <td>2019-07-25T00:00:00.000</td>\n      <td>Routine - Unscheduled</td>\n      <td>97975_20190725_103124</td>\n      <td>...</td>\n      <td>96</td>\n      <td>NaN</td>\n      <td>NaN</td>\n      <td>NaN</td>\n      <td>NaN</td>\n      <td>NaN</td>\n      <td>NaN</td>\n      <td>NaN</td>\n      <td>NaN</td>\n      <td>NaN</td>\n    </tr>\n    <tr>\n      <th>2</th>\n      <td>69487</td>\n      <td>Hakkasan San Francisco</td>\n      <td>1 Kearny St</td>\n      <td>San Francisco</td>\n      <td>CA</td>\n      <td>94108</td>\n      <td>69487_20180418</td>\n      <td>2018-04-18T00:00:00.000</td>\n      <td>Routine - Unscheduled</td>\n      <td>69487_20180418_103119</td>\n      <td>...</td>\n      <td>88</td>\n      <td>NaN</td>\n      <td>NaN</td>\n      <td>NaN</td>\n      <td>NaN</td>\n      <td>NaN</td>\n      <td>NaN</td>\n      <td>NaN</td>\n      <td>NaN</td>\n      <td>NaN</td>\n    </tr>\n    <tr>\n      <th>3</th>\n      <td>91044</td>\n      <td>Chopsticks Restaurant</td>\n      <td>4615 Mission St</td>\n      <td>San Francisco</td>\n      <td>CA</td>\n      <td>94112</td>\n      <td>91044_20170818</td>\n      <td>2017-08-18T00:00:00.000</td>\n      <td>Non-inspection site visit</td>\n      <td>NaN</td>\n      <td>...</td>\n      <td>NaN</td>\n      <td>NaN</td>\n      <td>NaN</td>\n      <td>NaN</td>\n      <td>NaN</td>\n      <td>NaN</td>\n      <td>NaN</td>\n      <td>NaN</td>\n      <td>NaN</td>\n      <td>NaN</td>\n    </tr>\n    <tr>\n      <th>4</th>\n      <td>85987</td>\n      <td>Tselogs</td>\n      <td>552 Jones St</td>\n      <td>San Francisco</td>\n      <td>CA</td>\n      <td>94102</td>\n      <td>85987_20180412</td>\n      <td>2018-04-12T00:00:00.000</td>\n      <td>Routine - Unscheduled</td>\n      <td>85987_20180412_103132</td>\n      <td>...</td>\n      <td>94</td>\n      <td>NaN</td>\n      <td>NaN</td>\n      <td>NaN</td>\n      <td>NaN</td>\n      <td>NaN</td>\n      <td>NaN</td>\n      <td>NaN</td>\n      <td>NaN</td>\n      <td>NaN</td>\n    </tr>\n  </tbody>\n</table>\n<p>5 rows × 23 columns</p>\n</div>"
     },
     "metadata": {},
     "execution_count": 103
    }
   ],
   "source": [
    "hygiene_df.head()"
   ]
  },
  {
   "cell_type": "markdown",
   "metadata": {},
   "source": [
    "We will now use the Foursquare API to search each neighborhoods restaurants"
   ]
  },
  {
   "cell_type": "code",
   "execution_count": 112,
   "metadata": {
    "tags": []
   },
   "outputs": [
    {
     "output_type": "stream",
     "name": "stdout",
     "text": "Your credentails:\nCLIENT_ID: U0BHFR2CGBOER0NS2E3LDULEVT032SXA3KVWLR2U1RTQBJCV\nCLIENT_SECRET:WRRQIHUGH45BSIKD4HCNE5ZXRNAK3E1JJNIXVNRVBNYLZYEC\n"
    }
   ],
   "source": [
    "client_id = 'U0BHFR2CGBOER0NS2E3LDULEVT032SXA3KVWLR2U1RTQBJCV' # your Foursquare ID\n",
    "client_secret = 'WRRQIHUGH45BSIKD4HCNE5ZXRNAK3E1JJNIXVNRVBNYLZYEC' # your Foursquare Secret\n",
    "version = '20180605' # Foursquare API version\n",
    "category= '4d4b7105d754a06374d81259' #Food Category\n",
    "\n",
    "\n",
    "print('Your credentails:')\n",
    "print('CLIENT_ID: ' + client_id)\n",
    "print('CLIENT_SECRET:' + client_secret)"
   ]
  },
  {
   "cell_type": "code",
   "execution_count": 114,
   "metadata": {},
   "outputs": [],
   "source": [
    "def getVenuesLoc(names, radius=600):\n",
    "    \n",
    "    venues_list=[]\n",
    "    for name in zip(names):\n",
    "        print(name)\n",
    "            \n",
    "        # create the API request URL\n",
    "        url = 'https://api.foursquare.com/v2/venues/explore?client_id={}&client_secret={}&v={}&near={},San Francisco, CA&categoryId={}&radius={}&limit={}'.format(\n",
    "        client_id,\n",
    "        client_secret,\n",
    "        version, neighborhood,\n",
    "        category,\n",
    "        radius, \n",
    "        limit)\n",
    "            \n",
    "        # make the GET request\n",
    "        results = requests.get(url).json()[\"response\"]['groups'][0]['items']\n",
    "        \n",
    "        # return only relevant information for each nearby venue\n",
    "        venues_list.append([(\n",
    "            name,\n",
    "            v['venue']['name'], \n",
    "            v['venue']['location']['lat'], \n",
    "            v['venue']['location']['lng'],  \n",
    "            v['venue']['categories'][0]['name']) for v in results])\n",
    "\n",
    "    nearby_venues = pd.DataFrame([item for venue_list in venues_list for item in venue_list])\n",
    "    nearby_venues.columns = ['Neighbourhood', \n",
    "                  'Venue', \n",
    "                  'Venue Latitude', \n",
    "                  'Venue Longitude', \n",
    "                  'Venue Category']\n",
    "    \n",
    "    return(nearby_venues)"
   ]
  },
  {
   "cell_type": "markdown",
   "metadata": {},
   "source": [
    "Becuase there are certain neighborhoods grouped, we ungroup them to apply the function"
   ]
  },
  {
   "cell_type": "code",
   "execution_count": 162,
   "metadata": {
    "tags": []
   },
   "outputs": [
    {
     "output_type": "stream",
     "name": "stdout",
     "text": "Buena Vista Park/Ashbury Heights\nEureka Valley / Dolores Heights\nFinancial District/Barbary Coast\nJordan Park / Laurel Heights\nCole Valley/Parnassus Heights\nVan Ness/Civic Center\nCentral Waterfront/Dogpatch\n"
    }
   ],
   "source": [
    "nhood_names=[]\n",
    "for name in nhoods_df['nbrhood']:\n",
    "    if '/' in name:\n",
    "        print (name)\n",
    "        split_name=name.split('/',1)\n",
    "        nhood_names.append(split_name[0])\n",
    "        nhood_names.append(split_name[1])\n",
    "    elif '/' not in name:\n",
    "        nhood_names.append(name)\n",
    "    "
   ]
  },
  {
   "cell_type": "code",
   "execution_count": 163,
   "metadata": {},
   "outputs": [
    {
     "output_type": "execute_result",
     "data": {
      "text/plain": "['Alamo Square',\n 'Anza Vista',\n 'Balboa Terrace',\n 'Bayview',\n 'Bernal Heights',\n 'Buena Vista Park',\n 'Ashbury Heights',\n 'Central Richmond',\n 'Central Sunset',\n 'Clarendon Heights',\n 'Corona Heights',\n 'Cow Hollow',\n 'Crocker Amazon',\n 'Diamond Heights',\n 'Downtown',\n 'Duboce Triangle',\n 'Eureka Valley ',\n ' Dolores Heights',\n 'Excelsior',\n 'Financial District',\n 'Barbary Coast',\n 'Yerba Buena',\n 'Forest Hill',\n 'Forest Hills Extension',\n 'Forest Knolls',\n 'Glen Park',\n 'Golden Gate Heights',\n 'Golden Gate Park',\n 'Haight Ashbury',\n 'Hayes Valley',\n 'Hunters Point',\n 'Ingleside',\n 'Ingleside Heights',\n 'Ingleside Terrace',\n 'Inner Mission',\n 'Inner Parkside',\n 'Inner Richmond',\n 'Inner Sunset',\n 'Jordan Park ',\n ' Laurel Heights',\n 'Lake Street',\n 'Monterey Heights',\n 'Lake Shore',\n 'Lakeside',\n 'Lone Mountain',\n 'Lower Pacific Heights',\n 'Marina',\n 'Merced Heights',\n 'Merced Manor',\n 'Midtown Terrace',\n 'South Beach',\n 'Miraloma Park',\n 'Mission Bay',\n 'Mission Dolores',\n 'Mission Terrace',\n 'Mount Davidson Manor',\n 'Noe Valley',\n 'North Beach',\n 'North Panhandle',\n 'North Waterfront',\n 'Oceanview',\n 'Outer Mission',\n 'Outer Parkside',\n 'Outer Richmond',\n 'Outer Sunset',\n 'Pacific Heights',\n 'Parkside',\n 'Cole Valley',\n 'Parnassus Heights',\n 'Pine Lake Park',\n 'Portola',\n 'Potrero Hill',\n 'Presidio',\n 'Presidio Heights',\n 'Russian Hill',\n 'Saint Francis Wood',\n 'Sea Cliff',\n 'Silver Terrace',\n 'South of Market',\n 'Stonestown',\n 'Sunnyside',\n 'Telegraph Hill',\n 'Twin Peaks',\n 'Van Ness',\n 'Civic Center',\n 'Visitacion Valley',\n 'West Portal',\n 'Western Addition',\n 'Westwood Highlands',\n 'Westwood Park',\n 'Lincoln Park',\n 'Sherwood Forest',\n 'Tenderloin',\n 'Central Waterfront',\n 'Dogpatch',\n 'Candlestick Point',\n 'Bayview Heights',\n 'Little Hollywood',\n 'Nob Hill']"
     },
     "metadata": {},
     "execution_count": 163
    }
   ],
   "source": [
    "nhood_names"
   ]
  },
  {
   "cell_type": "code",
   "execution_count": 135,
   "metadata": {},
   "outputs": [
    {
     "output_type": "execute_result",
     "data": {
      "text/plain": "'Ashbury Heights'"
     },
     "metadata": {},
     "execution_count": 135
    }
   ],
   "source": [
    "example = 'Buena Vista Park/Ashbury Heights'\n",
    "'/' in example\n",
    "split_name=example.split('/',1)\n",
    "split_name[0]\n",
    "split_name[1]"
   ]
  },
  {
   "cell_type": "code",
   "execution_count": 118,
   "metadata": {},
   "outputs": [
    {
     "output_type": "execute_result",
     "data": {
      "text/plain": "                      sfar_distr  \\\n0     District 6 - Central North   \n1     District 6 - Central North   \n2   District 4 - Twin Peaks West   \n3        District 10 - Southeast   \n4      District 9 - Central East   \n..                           ...   \n87     District 9 - Central East   \n88       District 10 - Southeast   \n89       District 10 - Southeast   \n90       District 10 - Southeast   \n91        District 8 - Northeast   \n\n                                             the_geom  \\\n0   {'type': 'MultiPolygon', 'coordinates': [[[[-1...   \n1   {'type': 'MultiPolygon', 'coordinates': [[[[-1...   \n2   {'type': 'MultiPolygon', 'coordinates': [[[[-1...   \n3   {'type': 'MultiPolygon', 'coordinates': [[[[-1...   \n4   {'type': 'MultiPolygon', 'coordinates': [[[[-1...   \n..                                                ...   \n87  {'type': 'MultiPolygon', 'coordinates': [[[[-1...   \n88  {'type': 'MultiPolygon', 'coordinates': [[[[-1...   \n89  {'type': 'MultiPolygon', 'coordinates': [[[[-1...   \n90  {'type': 'MultiPolygon', 'coordinates': [[[[-1...   \n91  {'type': 'MultiPolygon', 'coordinates': [[[[-1...   \n\n                        nbrhood  nid  \n0                  Alamo Square   6e  \n1                    Anza Vista   6a  \n2                Balboa Terrace   4a  \n3                       Bayview  10a  \n4                Bernal Heights   9a  \n..                          ...  ...  \n87  Central Waterfront/Dogpatch   9j  \n88            Candlestick Point  10m  \n89              Bayview Heights  10k  \n90             Little Hollywood  10n  \n91                     Nob Hill   8c  \n\n[92 rows x 4 columns]",
      "text/html": "<div>\n<style scoped>\n    .dataframe tbody tr th:only-of-type {\n        vertical-align: middle;\n    }\n\n    .dataframe tbody tr th {\n        vertical-align: top;\n    }\n\n    .dataframe thead th {\n        text-align: right;\n    }\n</style>\n<table border=\"1\" class=\"dataframe\">\n  <thead>\n    <tr style=\"text-align: right;\">\n      <th></th>\n      <th>sfar_distr</th>\n      <th>the_geom</th>\n      <th>nbrhood</th>\n      <th>nid</th>\n    </tr>\n  </thead>\n  <tbody>\n    <tr>\n      <th>0</th>\n      <td>District 6 - Central North</td>\n      <td>{'type': 'MultiPolygon', 'coordinates': [[[[-1...</td>\n      <td>Alamo Square</td>\n      <td>6e</td>\n    </tr>\n    <tr>\n      <th>1</th>\n      <td>District 6 - Central North</td>\n      <td>{'type': 'MultiPolygon', 'coordinates': [[[[-1...</td>\n      <td>Anza Vista</td>\n      <td>6a</td>\n    </tr>\n    <tr>\n      <th>2</th>\n      <td>District 4 - Twin Peaks West</td>\n      <td>{'type': 'MultiPolygon', 'coordinates': [[[[-1...</td>\n      <td>Balboa Terrace</td>\n      <td>4a</td>\n    </tr>\n    <tr>\n      <th>3</th>\n      <td>District 10 - Southeast</td>\n      <td>{'type': 'MultiPolygon', 'coordinates': [[[[-1...</td>\n      <td>Bayview</td>\n      <td>10a</td>\n    </tr>\n    <tr>\n      <th>4</th>\n      <td>District 9 - Central East</td>\n      <td>{'type': 'MultiPolygon', 'coordinates': [[[[-1...</td>\n      <td>Bernal Heights</td>\n      <td>9a</td>\n    </tr>\n    <tr>\n      <th>...</th>\n      <td>...</td>\n      <td>...</td>\n      <td>...</td>\n      <td>...</td>\n    </tr>\n    <tr>\n      <th>87</th>\n      <td>District 9 - Central East</td>\n      <td>{'type': 'MultiPolygon', 'coordinates': [[[[-1...</td>\n      <td>Central Waterfront/Dogpatch</td>\n      <td>9j</td>\n    </tr>\n    <tr>\n      <th>88</th>\n      <td>District 10 - Southeast</td>\n      <td>{'type': 'MultiPolygon', 'coordinates': [[[[-1...</td>\n      <td>Candlestick Point</td>\n      <td>10m</td>\n    </tr>\n    <tr>\n      <th>89</th>\n      <td>District 10 - Southeast</td>\n      <td>{'type': 'MultiPolygon', 'coordinates': [[[[-1...</td>\n      <td>Bayview Heights</td>\n      <td>10k</td>\n    </tr>\n    <tr>\n      <th>90</th>\n      <td>District 10 - Southeast</td>\n      <td>{'type': 'MultiPolygon', 'coordinates': [[[[-1...</td>\n      <td>Little Hollywood</td>\n      <td>10n</td>\n    </tr>\n    <tr>\n      <th>91</th>\n      <td>District 8 - Northeast</td>\n      <td>{'type': 'MultiPolygon', 'coordinates': [[[[-1...</td>\n      <td>Nob Hill</td>\n      <td>8c</td>\n    </tr>\n  </tbody>\n</table>\n<p>92 rows × 4 columns</p>\n</div>"
     },
     "metadata": {},
     "execution_count": 118
    }
   ],
   "source": [
    "nhoods_df"
   ]
  },
  {
   "cell_type": "code",
   "execution_count": null,
   "metadata": {},
   "outputs": [],
   "source": []
  },
  {
   "cell_type": "code",
   "execution_count": null,
   "metadata": {},
   "outputs": [],
   "source": []
  },
  {
   "cell_type": "code",
   "execution_count": null,
   "metadata": {},
   "outputs": [],
   "source": []
  },
  {
   "cell_type": "code",
   "execution_count": 104,
   "metadata": {
    "tags": []
   },
   "outputs": [
    {
     "output_type": "stream",
     "name": "stdout",
     "text": "26498\n26498\n26498\nAproximately 49.0 % of data points are not georeferenced\n"
    }
   ],
   "source": [
    "print(hygiene_df['business_latitude'].isna().sum())\n",
    "print(hygiene_df['business_longitude'].isna().sum())\n",
    "print(hygiene_df['business_location'].isna().sum())\n",
    "print('Aproximately',round((hygiene_df['business_latitude'].isna().sum())/len(hygiene_df.index)*100), '% of data points are not georeferenced')"
   ]
  },
  {
   "cell_type": "code",
   "execution_count": 110,
   "metadata": {},
   "outputs": [],
   "source": []
  },
  {
   "cell_type": "code",
   "execution_count": null,
   "metadata": {},
   "outputs": [],
   "source": []
  }
 ]
}